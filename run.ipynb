{
  "cells": [
    {
      "cell_type": "markdown",
      "metadata": {},
      "source": [
        "# MLOps End-to-End Workflow\n",
        "\n",
        "This notebook provides a step-by-step guide to run the entire machine learning pipeline, from training the model to deploying it as a containerized API."
      ]
    },
    {
      "cell_type": "markdown",
      "metadata": {},
      "source": [
        "## Step 1: Install Dependencies\n",
        "\n",
        "First, we need to install all the required Python libraries listed in the `requirements.txt` file. This ensures our environment is set up correctly."
      ]
    },
    {
      "cell_type": "code",
      "execution_count": 1,
      "metadata": {},
      "outputs": [
        {
          "name": "stdout",
          "output_type": "stream",
          "text": [
            "Requirement already satisfied: numpy in c:\\users\\ashwa\\miniconda3\\lib\\site-packages (from -r requirements.txt (line 1)) (2.3.1)\n",
            "Requirement already satisfied: pandas in c:\\users\\ashwa\\miniconda3\\lib\\site-packages (from -r requirements.txt (line 2)) (2.2.3)\n",
            "Requirement already satisfied: scikit-learn in c:\\users\\ashwa\\miniconda3\\lib\\site-packages (from -r requirements.txt (line 3)) (1.6.1)\n",
            "Requirement already satisfied: matplotlib in c:\\users\\ashwa\\miniconda3\\lib\\site-packages (from -r requirements.txt (line 4)) (3.10.0)\n",
            "Requirement already satisfied: seaborn in c:\\users\\ashwa\\miniconda3\\lib\\site-packages (from -r requirements.txt (line 5)) (0.13.2)\n",
            "Requirement already satisfied: jupyter in c:\\users\\ashwa\\miniconda3\\lib\\site-packages (from -r requirements.txt (line 6)) (1.1.1)\n",
            "Requirement already satisfied: joblib in c:\\users\\ashwa\\miniconda3\\lib\\site-packages (from -r requirements.txt (line 7)) (1.4.2)\n",
            "Requirement already satisfied: fastapi in c:\\users\\ashwa\\miniconda3\\lib\\site-packages (from -r requirements.txt (line 8)) (0.116.1)\n",
            "Requirement already satisfied: mlflow>=2.0 in c:\\users\\ashwa\\miniconda3\\lib\\site-packages (from -r requirements.txt (line 10)) (3.1.4)\n",
            "Requirement already satisfied: python-dotenv in c:\\users\\ashwa\\miniconda3\\lib\\site-packages (from -r requirements.txt (line 14)) (1.1.1)\n",
            "Requirement already satisfied: starlette-prometheus in c:\\users\\ashwa\\miniconda3\\lib\\site-packages (from -r requirements.txt (line 15)) (0.10.0)\n",
            "Requirement already satisfied: uvicorn[standard] in c:\\users\\ashwa\\miniconda3\\lib\\site-packages (from -r requirements.txt (line 9)) (0.35.0)\n",
            "Requirement already satisfied: python-dateutil>=2.8.2 in c:\\users\\ashwa\\miniconda3\\lib\\site-packages (from pandas->-r requirements.txt (line 2)) (2.9.0.post0)\n",
            "Requirement already satisfied: pytz>=2020.1 in c:\\users\\ashwa\\miniconda3\\lib\\site-packages (from pandas->-r requirements.txt (line 2)) (2025.2)\n",
            "Requirement already satisfied: tzdata>=2022.7 in c:\\users\\ashwa\\miniconda3\\lib\\site-packages (from pandas->-r requirements.txt (line 2)) (2025.2)\n",
            "Requirement already satisfied: scipy>=1.6.0 in c:\\users\\ashwa\\miniconda3\\lib\\site-packages (from scikit-learn->-r requirements.txt (line 3)) (1.15.3)\n",
            "Requirement already satisfied: threadpoolctl>=3.1.0 in c:\\users\\ashwa\\miniconda3\\lib\\site-packages (from scikit-learn->-r requirements.txt (line 3)) (3.5.0)\n",
            "Requirement already satisfied: contourpy>=1.0.1 in c:\\users\\ashwa\\miniconda3\\lib\\site-packages (from matplotlib->-r requirements.txt (line 4)) (1.3.1)\n",
            "Requirement already satisfied: cycler>=0.10 in c:\\users\\ashwa\\miniconda3\\lib\\site-packages (from matplotlib->-r requirements.txt (line 4)) (0.11.0)\n",
            "Requirement already satisfied: fonttools>=4.22.0 in c:\\users\\ashwa\\miniconda3\\lib\\site-packages (from matplotlib->-r requirements.txt (line 4)) (4.55.3)\n",
            "Requirement already satisfied: kiwisolver>=1.3.1 in c:\\users\\ashwa\\miniconda3\\lib\\site-packages (from matplotlib->-r requirements.txt (line 4)) (1.4.8)\n",
            "Requirement already satisfied: packaging>=20.0 in c:\\users\\ashwa\\appdata\\roaming\\python\\python313\\site-packages (from matplotlib->-r requirements.txt (line 4)) (24.2)\n",
            "Requirement already satisfied: pillow>=8 in c:\\users\\ashwa\\miniconda3\\lib\\site-packages (from matplotlib->-r requirements.txt (line 4)) (11.1.0)\n",
            "Requirement already satisfied: pyparsing>=2.3.1 in c:\\users\\ashwa\\miniconda3\\lib\\site-packages (from matplotlib->-r requirements.txt (line 4)) (3.2.0)\n",
            "Requirement already satisfied: notebook in c:\\users\\ashwa\\miniconda3\\lib\\site-packages (from jupyter->-r requirements.txt (line 6)) (7.4.4)\n",
            "Requirement already satisfied: jupyter-console in c:\\users\\ashwa\\miniconda3\\lib\\site-packages (from jupyter->-r requirements.txt (line 6)) (6.6.3)\n",
            "Requirement already satisfied: nbconvert in c:\\users\\ashwa\\miniconda3\\lib\\site-packages (from jupyter->-r requirements.txt (line 6)) (7.16.6)\n",
            "Requirement already satisfied: ipykernel in c:\\users\\ashwa\\appdata\\roaming\\python\\python313\\site-packages (from jupyter->-r requirements.txt (line 6)) (6.29.5)\n",
            "Requirement already satisfied: ipywidgets in c:\\users\\ashwa\\miniconda3\\lib\\site-packages (from jupyter->-r requirements.txt (line 6)) (8.1.5)\n",
            "Requirement already satisfied: jupyterlab in c:\\users\\ashwa\\miniconda3\\lib\\site-packages (from jupyter->-r requirements.txt (line 6)) (4.4.4)\n",
            "Requirement already satisfied: starlette<0.48.0,>=0.40.0 in c:\\users\\ashwa\\miniconda3\\lib\\site-packages (from fastapi->-r requirements.txt (line 8)) (0.47.2)\n",
            "Requirement already satisfied: pydantic!=1.8,!=1.8.1,!=2.0.0,!=2.0.1,!=2.1.0,<3.0.0,>=1.7.4 in c:\\users\\ashwa\\miniconda3\\lib\\site-packages (from fastapi->-r requirements.txt (line 8)) (2.10.3)\n",
            "Requirement already satisfied: typing-extensions>=4.8.0 in c:\\users\\ashwa\\miniconda3\\lib\\site-packages (from fastapi->-r requirements.txt (line 8)) (4.12.2)\n",
            "Requirement already satisfied: click>=7.0 in c:\\users\\ashwa\\miniconda3\\lib\\site-packages (from uvicorn[standard]->-r requirements.txt (line 9)) (8.1.8)\n",
            "Requirement already satisfied: h11>=0.8 in c:\\users\\ashwa\\miniconda3\\lib\\site-packages (from uvicorn[standard]->-r requirements.txt (line 9)) (0.16.0)\n",
            "Requirement already satisfied: colorama>=0.4 in c:\\users\\ashwa\\appdata\\roaming\\python\\python313\\site-packages (from uvicorn[standard]->-r requirements.txt (line 9)) (0.4.6)\n",
            "Requirement already satisfied: httptools>=0.6.3 in c:\\users\\ashwa\\miniconda3\\lib\\site-packages (from uvicorn[standard]->-r requirements.txt (line 9)) (0.6.4)\n",
            "Requirement already satisfied: pyyaml>=5.1 in c:\\users\\ashwa\\miniconda3\\lib\\site-packages (from uvicorn[standard]->-r requirements.txt (line 9)) (6.0.2)\n",
            "Requirement already satisfied: watchfiles>=0.13 in c:\\users\\ashwa\\miniconda3\\lib\\site-packages (from uvicorn[standard]->-r requirements.txt (line 9)) (1.1.0)\n",
            "Requirement already satisfied: websockets>=10.4 in c:\\users\\ashwa\\miniconda3\\lib\\site-packages (from uvicorn[standard]->-r requirements.txt (line 9)) (15.0.1)\n",
            "Requirement already satisfied: mlflow-skinny==3.1.4 in c:\\users\\ashwa\\miniconda3\\lib\\site-packages (from mlflow>=2.0->-r requirements.txt (line 10)) (3.1.4)\n",
            "Requirement already satisfied: Flask<4 in c:\\users\\ashwa\\miniconda3\\lib\\site-packages (from mlflow>=2.0->-r requirements.txt (line 10)) (3.1.1)\n",
            "Requirement already satisfied: alembic!=1.10.0,<2 in c:\\users\\ashwa\\miniconda3\\lib\\site-packages (from mlflow>=2.0->-r requirements.txt (line 10)) (1.16.4)\n",
            "Requirement already satisfied: docker<8,>=4.0.0 in c:\\users\\ashwa\\miniconda3\\lib\\site-packages (from mlflow>=2.0->-r requirements.txt (line 10)) (7.1.0)\n",
            "Requirement already satisfied: graphene<4 in c:\\users\\ashwa\\miniconda3\\lib\\site-packages (from mlflow>=2.0->-r requirements.txt (line 10)) (3.4.3)\n",
            "Requirement already satisfied: pyarrow<21,>=4.0.0 in c:\\users\\ashwa\\miniconda3\\lib\\site-packages (from mlflow>=2.0->-r requirements.txt (line 10)) (20.0.0)\n",
            "Requirement already satisfied: sqlalchemy<3,>=1.4.0 in c:\\users\\ashwa\\miniconda3\\lib\\site-packages (from mlflow>=2.0->-r requirements.txt (line 10)) (2.0.42)\n",
            "Requirement already satisfied: waitress<4 in c:\\users\\ashwa\\miniconda3\\lib\\site-packages (from mlflow>=2.0->-r requirements.txt (line 10)) (3.0.2)\n",
            "Requirement already satisfied: cachetools<7,>=5.0.0 in c:\\users\\ashwa\\miniconda3\\lib\\site-packages (from mlflow-skinny==3.1.4->mlflow>=2.0->-r requirements.txt (line 10)) (5.5.2)\n",
            "Requirement already satisfied: cloudpickle<4 in c:\\users\\ashwa\\miniconda3\\lib\\site-packages (from mlflow-skinny==3.1.4->mlflow>=2.0->-r requirements.txt (line 10)) (3.1.1)\n",
            "Requirement already satisfied: databricks-sdk<1,>=0.20.0 in c:\\users\\ashwa\\miniconda3\\lib\\site-packages (from mlflow-skinny==3.1.4->mlflow>=2.0->-r requirements.txt (line 10)) (0.60.0)\n",
            "Requirement already satisfied: gitpython<4,>=3.1.9 in c:\\users\\ashwa\\miniconda3\\lib\\site-packages (from mlflow-skinny==3.1.4->mlflow>=2.0->-r requirements.txt (line 10)) (3.1.45)\n",
            "Requirement already satisfied: importlib_metadata!=4.7.0,<9,>=3.7.0 in c:\\users\\ashwa\\miniconda3\\lib\\site-packages (from mlflow-skinny==3.1.4->mlflow>=2.0->-r requirements.txt (line 10)) (8.7.0)\n",
            "Requirement already satisfied: opentelemetry-api<3,>=1.9.0 in c:\\users\\ashwa\\miniconda3\\lib\\site-packages (from mlflow-skinny==3.1.4->mlflow>=2.0->-r requirements.txt (line 10)) (1.35.0)\n",
            "Requirement already satisfied: opentelemetry-sdk<3,>=1.9.0 in c:\\users\\ashwa\\miniconda3\\lib\\site-packages (from mlflow-skinny==3.1.4->mlflow>=2.0->-r requirements.txt (line 10)) (1.35.0)\n",
            "Requirement already satisfied: protobuf<7,>=3.12.0 in c:\\users\\ashwa\\miniconda3\\lib\\site-packages (from mlflow-skinny==3.1.4->mlflow>=2.0->-r requirements.txt (line 10)) (6.31.1)\n",
            "Requirement already satisfied: requests<3,>=2.17.3 in c:\\users\\ashwa\\miniconda3\\lib\\site-packages (from mlflow-skinny==3.1.4->mlflow>=2.0->-r requirements.txt (line 10)) (2.32.3)\n",
            "Requirement already satisfied: sqlparse<1,>=0.4.0 in c:\\users\\ashwa\\miniconda3\\lib\\site-packages (from mlflow-skinny==3.1.4->mlflow>=2.0->-r requirements.txt (line 10)) (0.5.3)\n",
            "Requirement already satisfied: prometheus_client>=0.12 in c:\\users\\ashwa\\miniconda3\\lib\\site-packages (from starlette-prometheus->-r requirements.txt (line 15)) (0.21.1)\n",
            "Requirement already satisfied: Mako in c:\\users\\ashwa\\miniconda3\\lib\\site-packages (from alembic!=1.10.0,<2->mlflow>=2.0->-r requirements.txt (line 10)) (1.3.10)\n",
            "Requirement already satisfied: pywin32>=304 in c:\\users\\ashwa\\appdata\\roaming\\python\\python313\\site-packages (from docker<8,>=4.0.0->mlflow>=2.0->-r requirements.txt (line 10)) (308)\n",
            "Requirement already satisfied: urllib3>=1.26.0 in c:\\users\\ashwa\\miniconda3\\lib\\site-packages (from docker<8,>=4.0.0->mlflow>=2.0->-r requirements.txt (line 10)) (2.3.0)\n",
            "Requirement already satisfied: blinker>=1.9.0 in c:\\users\\ashwa\\miniconda3\\lib\\site-packages (from Flask<4->mlflow>=2.0->-r requirements.txt (line 10)) (1.9.0)\n",
            "Requirement already satisfied: itsdangerous>=2.2.0 in c:\\users\\ashwa\\miniconda3\\lib\\site-packages (from Flask<4->mlflow>=2.0->-r requirements.txt (line 10)) (2.2.0)\n",
            "Requirement already satisfied: jinja2>=3.1.2 in c:\\users\\ashwa\\miniconda3\\lib\\site-packages (from Flask<4->mlflow>=2.0->-r requirements.txt (line 10)) (3.1.6)\n",
            "Requirement already satisfied: markupsafe>=2.1.1 in c:\\users\\ashwa\\miniconda3\\lib\\site-packages (from Flask<4->mlflow>=2.0->-r requirements.txt (line 10)) (3.0.2)\n",
            "Requirement already satisfied: werkzeug>=3.1.0 in c:\\users\\ashwa\\miniconda3\\lib\\site-packages (from Flask<4->mlflow>=2.0->-r requirements.txt (line 10)) (3.1.3)\n",
            "Requirement already satisfied: graphql-core<3.3,>=3.1 in c:\\users\\ashwa\\miniconda3\\lib\\site-packages (from graphene<4->mlflow>=2.0->-r requirements.txt (line 10)) (3.2.6)\n",
            "Requirement already satisfied: graphql-relay<3.3,>=3.1 in c:\\users\\ashwa\\miniconda3\\lib\\site-packages (from graphene<4->mlflow>=2.0->-r requirements.txt (line 10)) (3.2.0)\n",
            "Requirement already satisfied: annotated-types>=0.6.0 in c:\\users\\ashwa\\miniconda3\\lib\\site-packages (from pydantic!=1.8,!=1.8.1,!=2.0.0,!=2.0.1,!=2.1.0,<3.0.0,>=1.7.4->fastapi->-r requirements.txt (line 8)) (0.6.0)\n",
            "Requirement already satisfied: pydantic-core==2.27.1 in c:\\users\\ashwa\\miniconda3\\lib\\site-packages (from pydantic!=1.8,!=1.8.1,!=2.0.0,!=2.0.1,!=2.1.0,<3.0.0,>=1.7.4->fastapi->-r requirements.txt (line 8)) (2.27.1)\n",
            "Requirement already satisfied: six>=1.5 in c:\\users\\ashwa\\miniconda3\\lib\\site-packages (from python-dateutil>=2.8.2->pandas->-r requirements.txt (line 2)) (1.17.0)\n",
            "Requirement already satisfied: greenlet>=1 in c:\\users\\ashwa\\miniconda3\\lib\\site-packages (from sqlalchemy<3,>=1.4.0->mlflow>=2.0->-r requirements.txt (line 10)) (3.2.3)\n",
            "Requirement already satisfied: anyio<5,>=3.6.2 in c:\\users\\ashwa\\miniconda3\\lib\\site-packages (from starlette<0.48.0,>=0.40.0->fastapi->-r requirements.txt (line 8)) (4.7.0)\n",
            "Requirement already satisfied: comm>=0.1.1 in c:\\users\\ashwa\\appdata\\roaming\\python\\python313\\site-packages (from ipykernel->jupyter->-r requirements.txt (line 6)) (0.2.2)\n",
            "Requirement already satisfied: debugpy>=1.6.5 in c:\\users\\ashwa\\appdata\\roaming\\python\\python313\\site-packages (from ipykernel->jupyter->-r requirements.txt (line 6)) (1.8.12)\n",
            "Requirement already satisfied: ipython>=7.23.1 in c:\\users\\ashwa\\appdata\\roaming\\python\\python313\\site-packages (from ipykernel->jupyter->-r requirements.txt (line 6)) (8.31.0)\n",
            "Requirement already satisfied: jupyter-client>=6.1.12 in c:\\users\\ashwa\\appdata\\roaming\\python\\python313\\site-packages (from ipykernel->jupyter->-r requirements.txt (line 6)) (8.6.3)\n",
            "Requirement already satisfied: jupyter-core!=5.0.*,>=4.12 in c:\\users\\ashwa\\appdata\\roaming\\python\\python313\\site-packages (from ipykernel->jupyter->-r requirements.txt (line 6)) (5.7.2)\n",
            "Requirement already satisfied: matplotlib-inline>=0.1 in c:\\users\\ashwa\\appdata\\roaming\\python\\python313\\site-packages (from ipykernel->jupyter->-r requirements.txt (line 6)) (0.1.7)\n",
            "Requirement already satisfied: nest-asyncio in c:\\users\\ashwa\\appdata\\roaming\\python\\python313\\site-packages (from ipykernel->jupyter->-r requirements.txt (line 6)) (1.6.0)\n",
            "Requirement already satisfied: psutil in c:\\users\\ashwa\\appdata\\roaming\\python\\python313\\site-packages (from ipykernel->jupyter->-r requirements.txt (line 6)) (6.1.1)\n",
            "Requirement already satisfied: pyzmq>=24 in c:\\users\\ashwa\\appdata\\roaming\\python\\python313\\site-packages (from ipykernel->jupyter->-r requirements.txt (line 6)) (26.2.0)\n",
            "Requirement already satisfied: tornado>=6.1 in c:\\users\\ashwa\\appdata\\roaming\\python\\python313\\site-packages (from ipykernel->jupyter->-r requirements.txt (line 6)) (6.4.2)\n",
            "Requirement already satisfied: traitlets>=5.4.0 in c:\\users\\ashwa\\appdata\\roaming\\python\\python313\\site-packages (from ipykernel->jupyter->-r requirements.txt (line 6)) (5.14.3)\n",
            "Requirement already satisfied: widgetsnbextension~=4.0.12 in c:\\users\\ashwa\\miniconda3\\lib\\site-packages (from ipywidgets->jupyter->-r requirements.txt (line 6)) (4.0.13)\n",
            "Requirement already satisfied: jupyterlab_widgets~=3.0.12 in c:\\users\\ashwa\\miniconda3\\lib\\site-packages (from ipywidgets->jupyter->-r requirements.txt (line 6)) (3.0.15)\n",
            "Requirement already satisfied: prompt-toolkit>=3.0.30 in c:\\users\\ashwa\\appdata\\roaming\\python\\python313\\site-packages (from jupyter-console->jupyter->-r requirements.txt (line 6)) (3.0.48)\n",
            "Requirement already satisfied: pygments in c:\\users\\ashwa\\appdata\\roaming\\python\\python313\\site-packages (from jupyter-console->jupyter->-r requirements.txt (line 6)) (2.19.1)\n",
            "Requirement already satisfied: async-lru>=1.0.0 in c:\\users\\ashwa\\miniconda3\\lib\\site-packages (from jupyterlab->jupyter->-r requirements.txt (line 6)) (2.0.4)\n",
            "Requirement already satisfied: httpx>=0.25.0 in c:\\users\\ashwa\\miniconda3\\lib\\site-packages (from jupyterlab->jupyter->-r requirements.txt (line 6)) (0.28.1)\n",
            "Requirement already satisfied: jupyter-lsp>=2.0.0 in c:\\users\\ashwa\\miniconda3\\lib\\site-packages (from jupyterlab->jupyter->-r requirements.txt (line 6)) (2.2.5)\n",
            "Requirement already satisfied: jupyter-server<3,>=2.4.0 in c:\\users\\ashwa\\miniconda3\\lib\\site-packages (from jupyterlab->jupyter->-r requirements.txt (line 6)) (2.16.0)\n",
            "Requirement already satisfied: jupyterlab-server<3,>=2.27.1 in c:\\users\\ashwa\\miniconda3\\lib\\site-packages (from jupyterlab->jupyter->-r requirements.txt (line 6)) (2.27.3)\n",
            "Requirement already satisfied: notebook-shim>=0.2 in c:\\users\\ashwa\\miniconda3\\lib\\site-packages (from jupyterlab->jupyter->-r requirements.txt (line 6)) (0.2.4)\n",
            "Requirement already satisfied: setuptools>=41.1.0 in c:\\users\\ashwa\\miniconda3\\lib\\site-packages (from jupyterlab->jupyter->-r requirements.txt (line 6)) (72.1.0)\n",
            "Requirement already satisfied: beautifulsoup4 in c:\\users\\ashwa\\miniconda3\\lib\\site-packages (from nbconvert->jupyter->-r requirements.txt (line 6)) (4.13.4)\n",
            "Requirement already satisfied: bleach!=5.0.0 in c:\\users\\ashwa\\miniconda3\\lib\\site-packages (from bleach[css]!=5.0.0->nbconvert->jupyter->-r requirements.txt (line 6)) (6.2.0)\n",
            "Requirement already satisfied: defusedxml in c:\\users\\ashwa\\miniconda3\\lib\\site-packages (from nbconvert->jupyter->-r requirements.txt (line 6)) (0.7.1)\n",
            "Requirement already satisfied: jupyterlab-pygments in c:\\users\\ashwa\\miniconda3\\lib\\site-packages (from nbconvert->jupyter->-r requirements.txt (line 6)) (0.3.0)\n",
            "Requirement already satisfied: mistune<4,>=2.0.3 in c:\\users\\ashwa\\miniconda3\\lib\\site-packages (from nbconvert->jupyter->-r requirements.txt (line 6)) (3.1.2)\n",
            "Requirement already satisfied: nbclient>=0.5.0 in c:\\users\\ashwa\\miniconda3\\lib\\site-packages (from nbconvert->jupyter->-r requirements.txt (line 6)) (0.10.2)\n",
            "Requirement already satisfied: nbformat>=5.7 in c:\\users\\ashwa\\miniconda3\\lib\\site-packages (from nbconvert->jupyter->-r requirements.txt (line 6)) (5.10.4)\n",
            "Requirement already satisfied: pandocfilters>=1.4.1 in c:\\users\\ashwa\\miniconda3\\lib\\site-packages (from nbconvert->jupyter->-r requirements.txt (line 6)) (1.5.0)\n",
            "Requirement already satisfied: idna>=2.8 in c:\\users\\ashwa\\miniconda3\\lib\\site-packages (from anyio<5,>=3.6.2->starlette<0.48.0,>=0.40.0->fastapi->-r requirements.txt (line 8)) (3.7)\n",
            "Requirement already satisfied: sniffio>=1.1 in c:\\users\\ashwa\\miniconda3\\lib\\site-packages (from anyio<5,>=3.6.2->starlette<0.48.0,>=0.40.0->fastapi->-r requirements.txt (line 8)) (1.3.0)\n",
            "Requirement already satisfied: webencodings in c:\\users\\ashwa\\miniconda3\\lib\\site-packages (from bleach!=5.0.0->bleach[css]!=5.0.0->nbconvert->jupyter->-r requirements.txt (line 6)) (0.5.1)\n",
            "Requirement already satisfied: tinycss2<1.5,>=1.1.0 in c:\\users\\ashwa\\miniconda3\\lib\\site-packages (from bleach[css]!=5.0.0->nbconvert->jupyter->-r requirements.txt (line 6)) (1.4.0)\n",
            "Requirement already satisfied: google-auth~=2.0 in c:\\users\\ashwa\\miniconda3\\lib\\site-packages (from databricks-sdk<1,>=0.20.0->mlflow-skinny==3.1.4->mlflow>=2.0->-r requirements.txt (line 10)) (2.40.3)\n",
            "Requirement already satisfied: gitdb<5,>=4.0.1 in c:\\users\\ashwa\\miniconda3\\lib\\site-packages (from gitpython<4,>=3.1.9->mlflow-skinny==3.1.4->mlflow>=2.0->-r requirements.txt (line 10)) (4.0.12)\n",
            "Requirement already satisfied: certifi in c:\\users\\ashwa\\miniconda3\\lib\\site-packages (from httpx>=0.25.0->jupyterlab->jupyter->-r requirements.txt (line 6)) (2025.7.14)\n",
            "Requirement already satisfied: httpcore==1.* in c:\\users\\ashwa\\miniconda3\\lib\\site-packages (from httpx>=0.25.0->jupyterlab->jupyter->-r requirements.txt (line 6)) (1.0.9)\n",
            "Requirement already satisfied: zipp>=3.20 in c:\\users\\ashwa\\miniconda3\\lib\\site-packages (from importlib_metadata!=4.7.0,<9,>=3.7.0->mlflow-skinny==3.1.4->mlflow>=2.0->-r requirements.txt (line 10)) (3.23.0)\n",
            "Requirement already satisfied: decorator in c:\\users\\ashwa\\appdata\\roaming\\python\\python313\\site-packages (from ipython>=7.23.1->ipykernel->jupyter->-r requirements.txt (line 6)) (5.1.1)\n",
            "Requirement already satisfied: jedi>=0.16 in c:\\users\\ashwa\\appdata\\roaming\\python\\python313\\site-packages (from ipython>=7.23.1->ipykernel->jupyter->-r requirements.txt (line 6)) (0.19.2)\n",
            "Requirement already satisfied: stack_data in c:\\users\\ashwa\\appdata\\roaming\\python\\python313\\site-packages (from ipython>=7.23.1->ipykernel->jupyter->-r requirements.txt (line 6)) (0.6.3)\n",
            "Requirement already satisfied: platformdirs>=2.5 in c:\\users\\ashwa\\appdata\\roaming\\python\\python313\\site-packages (from jupyter-core!=5.0.*,>=4.12->ipykernel->jupyter->-r requirements.txt (line 6)) (4.3.6)\n",
            "Requirement already satisfied: argon2-cffi>=21.1 in c:\\users\\ashwa\\miniconda3\\lib\\site-packages (from jupyter-server<3,>=2.4.0->jupyterlab->jupyter->-r requirements.txt (line 6)) (21.3.0)\n",
            "Requirement already satisfied: jupyter-events>=0.11.0 in c:\\users\\ashwa\\miniconda3\\lib\\site-packages (from jupyter-server<3,>=2.4.0->jupyterlab->jupyter->-r requirements.txt (line 6)) (0.12.0)\n",
            "Requirement already satisfied: jupyter-server-terminals>=0.4.4 in c:\\users\\ashwa\\miniconda3\\lib\\site-packages (from jupyter-server<3,>=2.4.0->jupyterlab->jupyter->-r requirements.txt (line 6)) (0.5.3)\n",
            "Requirement already satisfied: overrides>=5.0 in c:\\users\\ashwa\\miniconda3\\lib\\site-packages (from jupyter-server<3,>=2.4.0->jupyterlab->jupyter->-r requirements.txt (line 6)) (7.4.0)\n",
            "Requirement already satisfied: pywinpty>=2.0.1 in c:\\users\\ashwa\\miniconda3\\lib\\site-packages (from jupyter-server<3,>=2.4.0->jupyterlab->jupyter->-r requirements.txt (line 6)) (2.0.15)\n",
            "Requirement already satisfied: send2trash>=1.8.2 in c:\\users\\ashwa\\miniconda3\\lib\\site-packages (from jupyter-server<3,>=2.4.0->jupyterlab->jupyter->-r requirements.txt (line 6)) (1.8.2)\n",
            "Requirement already satisfied: terminado>=0.8.3 in c:\\users\\ashwa\\miniconda3\\lib\\site-packages (from jupyter-server<3,>=2.4.0->jupyterlab->jupyter->-r requirements.txt (line 6)) (0.17.1)\n",
            "Requirement already satisfied: websocket-client>=1.7 in c:\\users\\ashwa\\miniconda3\\lib\\site-packages (from jupyter-server<3,>=2.4.0->jupyterlab->jupyter->-r requirements.txt (line 6)) (1.8.0)\n",
            "Requirement already satisfied: babel>=2.10 in c:\\users\\ashwa\\miniconda3\\lib\\site-packages (from jupyterlab-server<3,>=2.27.1->jupyterlab->jupyter->-r requirements.txt (line 6)) (2.16.0)\n",
            "Requirement already satisfied: json5>=0.9.0 in c:\\users\\ashwa\\miniconda3\\lib\\site-packages (from jupyterlab-server<3,>=2.27.1->jupyterlab->jupyter->-r requirements.txt (line 6)) (0.9.25)\n",
            "Requirement already satisfied: jsonschema>=4.18.0 in c:\\users\\ashwa\\miniconda3\\lib\\site-packages (from jupyterlab-server<3,>=2.27.1->jupyterlab->jupyter->-r requirements.txt (line 6)) (4.25.0)\n",
            "Requirement already satisfied: fastjsonschema>=2.15 in c:\\users\\ashwa\\miniconda3\\lib\\site-packages (from nbformat>=5.7->nbconvert->jupyter->-r requirements.txt (line 6)) (2.20.0)\n",
            "Requirement already satisfied: opentelemetry-semantic-conventions==0.56b0 in c:\\users\\ashwa\\miniconda3\\lib\\site-packages (from opentelemetry-sdk<3,>=1.9.0->mlflow-skinny==3.1.4->mlflow>=2.0->-r requirements.txt (line 10)) (0.56b0)\n",
            "Requirement already satisfied: wcwidth in c:\\users\\ashwa\\appdata\\roaming\\python\\python313\\site-packages (from prompt-toolkit>=3.0.30->jupyter-console->jupyter->-r requirements.txt (line 6)) (0.2.13)\n",
            "Requirement already satisfied: charset-normalizer<4,>=2 in c:\\users\\ashwa\\miniconda3\\lib\\site-packages (from requests<3,>=2.17.3->mlflow-skinny==3.1.4->mlflow>=2.0->-r requirements.txt (line 10)) (3.3.2)\n",
            "Requirement already satisfied: soupsieve>1.2 in c:\\users\\ashwa\\miniconda3\\lib\\site-packages (from beautifulsoup4->nbconvert->jupyter->-r requirements.txt (line 6)) (2.5)\n",
            "Requirement already satisfied: argon2-cffi-bindings in c:\\users\\ashwa\\miniconda3\\lib\\site-packages (from argon2-cffi>=21.1->jupyter-server<3,>=2.4.0->jupyterlab->jupyter->-r requirements.txt (line 6)) (21.2.0)\n",
            "Requirement already satisfied: smmap<6,>=3.0.1 in c:\\users\\ashwa\\miniconda3\\lib\\site-packages (from gitdb<5,>=4.0.1->gitpython<4,>=3.1.9->mlflow-skinny==3.1.4->mlflow>=2.0->-r requirements.txt (line 10)) (5.0.2)\n",
            "Requirement already satisfied: pyasn1-modules>=0.2.1 in c:\\users\\ashwa\\miniconda3\\lib\\site-packages (from google-auth~=2.0->databricks-sdk<1,>=0.20.0->mlflow-skinny==3.1.4->mlflow>=2.0->-r requirements.txt (line 10)) (0.4.2)\n",
            "Requirement already satisfied: rsa<5,>=3.1.4 in c:\\users\\ashwa\\miniconda3\\lib\\site-packages (from google-auth~=2.0->databricks-sdk<1,>=0.20.0->mlflow-skinny==3.1.4->mlflow>=2.0->-r requirements.txt (line 10)) (4.9.1)\n",
            "Requirement already satisfied: parso<0.9.0,>=0.8.4 in c:\\users\\ashwa\\appdata\\roaming\\python\\python313\\site-packages (from jedi>=0.16->ipython>=7.23.1->ipykernel->jupyter->-r requirements.txt (line 6)) (0.8.4)\n",
            "Requirement already satisfied: attrs>=22.2.0 in c:\\users\\ashwa\\miniconda3\\lib\\site-packages (from jsonschema>=4.18.0->jupyterlab-server<3,>=2.27.1->jupyterlab->jupyter->-r requirements.txt (line 6)) (24.3.0)\n",
            "Requirement already satisfied: jsonschema-specifications>=2023.03.6 in c:\\users\\ashwa\\miniconda3\\lib\\site-packages (from jsonschema>=4.18.0->jupyterlab-server<3,>=2.27.1->jupyterlab->jupyter->-r requirements.txt (line 6)) (2023.7.1)\n",
            "Requirement already satisfied: referencing>=0.28.4 in c:\\users\\ashwa\\miniconda3\\lib\\site-packages (from jsonschema>=4.18.0->jupyterlab-server<3,>=2.27.1->jupyterlab->jupyter->-r requirements.txt (line 6)) (0.30.2)\n",
            "Requirement already satisfied: rpds-py>=0.7.1 in c:\\users\\ashwa\\miniconda3\\lib\\site-packages (from jsonschema>=4.18.0->jupyterlab-server<3,>=2.27.1->jupyterlab->jupyter->-r requirements.txt (line 6)) (0.22.3)\n",
            "Requirement already satisfied: python-json-logger>=2.0.4 in c:\\users\\ashwa\\miniconda3\\lib\\site-packages (from jupyter-events>=0.11.0->jupyter-server<3,>=2.4.0->jupyterlab->jupyter->-r requirements.txt (line 6)) (3.2.1)\n",
            "Requirement already satisfied: rfc3339-validator in c:\\users\\ashwa\\miniconda3\\lib\\site-packages (from jupyter-events>=0.11.0->jupyter-server<3,>=2.4.0->jupyterlab->jupyter->-r requirements.txt (line 6)) (0.1.4)\n",
            "Requirement already satisfied: rfc3986-validator>=0.1.1 in c:\\users\\ashwa\\miniconda3\\lib\\site-packages (from jupyter-events>=0.11.0->jupyter-server<3,>=2.4.0->jupyterlab->jupyter->-r requirements.txt (line 6)) (0.1.1)\n",
            "Requirement already satisfied: executing>=1.2.0 in c:\\users\\ashwa\\appdata\\roaming\\python\\python313\\site-packages (from stack_data->ipython>=7.23.1->ipykernel->jupyter->-r requirements.txt (line 6)) (2.1.0)\n",
            "Requirement already satisfied: asttokens>=2.1.0 in c:\\users\\ashwa\\appdata\\roaming\\python\\python313\\site-packages (from stack_data->ipython>=7.23.1->ipykernel->jupyter->-r requirements.txt (line 6)) (3.0.0)\n",
            "Requirement already satisfied: pure-eval in c:\\users\\ashwa\\appdata\\roaming\\python\\python313\\site-packages (from stack_data->ipython>=7.23.1->ipykernel->jupyter->-r requirements.txt (line 6)) (0.2.3)\n",
            "Requirement already satisfied: fqdn in c:\\users\\ashwa\\miniconda3\\lib\\site-packages (from jsonschema[format-nongpl]>=4.18.0->jupyter-events>=0.11.0->jupyter-server<3,>=2.4.0->jupyterlab->jupyter->-r requirements.txt (line 6)) (1.5.1)\n",
            "Requirement already satisfied: isoduration in c:\\users\\ashwa\\miniconda3\\lib\\site-packages (from jsonschema[format-nongpl]>=4.18.0->jupyter-events>=0.11.0->jupyter-server<3,>=2.4.0->jupyterlab->jupyter->-r requirements.txt (line 6)) (20.11.0)\n",
            "Requirement already satisfied: jsonpointer>1.13 in c:\\users\\ashwa\\miniconda3\\lib\\site-packages (from jsonschema[format-nongpl]>=4.18.0->jupyter-events>=0.11.0->jupyter-server<3,>=2.4.0->jupyterlab->jupyter->-r requirements.txt (line 6)) (2.1)\n",
            "Requirement already satisfied: rfc3987-syntax>=1.1.0 in c:\\users\\ashwa\\miniconda3\\lib\\site-packages (from jsonschema[format-nongpl]>=4.18.0->jupyter-events>=0.11.0->jupyter-server<3,>=2.4.0->jupyterlab->jupyter->-r requirements.txt (line 6)) (1.1.0)\n",
            "Requirement already satisfied: uri-template in c:\\users\\ashwa\\miniconda3\\lib\\site-packages (from jsonschema[format-nongpl]>=4.18.0->jupyter-events>=0.11.0->jupyter-server<3,>=2.4.0->jupyterlab->jupyter->-r requirements.txt (line 6)) (1.3.0)\n",
            "Requirement already satisfied: webcolors>=24.6.0 in c:\\users\\ashwa\\miniconda3\\lib\\site-packages (from jsonschema[format-nongpl]>=4.18.0->jupyter-events>=0.11.0->jupyter-server<3,>=2.4.0->jupyterlab->jupyter->-r requirements.txt (line 6)) (24.11.1)\n",
            "Requirement already satisfied: pyasn1<0.7.0,>=0.6.1 in c:\\users\\ashwa\\miniconda3\\lib\\site-packages (from pyasn1-modules>=0.2.1->google-auth~=2.0->databricks-sdk<1,>=0.20.0->mlflow-skinny==3.1.4->mlflow>=2.0->-r requirements.txt (line 10)) (0.6.1)\n",
            "Requirement already satisfied: cffi>=1.0.1 in c:\\users\\ashwa\\miniconda3\\lib\\site-packages (from argon2-cffi-bindings->argon2-cffi>=21.1->jupyter-server<3,>=2.4.0->jupyterlab->jupyter->-r requirements.txt (line 6)) (1.17.1)\n",
            "Requirement already satisfied: pycparser in c:\\users\\ashwa\\miniconda3\\lib\\site-packages (from cffi>=1.0.1->argon2-cffi-bindings->argon2-cffi>=21.1->jupyter-server<3,>=2.4.0->jupyterlab->jupyter->-r requirements.txt (line 6)) (2.21)\n",
            "Requirement already satisfied: lark>=1.2.2 in c:\\users\\ashwa\\miniconda3\\lib\\site-packages (from rfc3987-syntax>=1.1.0->jsonschema[format-nongpl]>=4.18.0->jupyter-events>=0.11.0->jupyter-server<3,>=2.4.0->jupyterlab->jupyter->-r requirements.txt (line 6)) (1.2.2)\n",
            "Requirement already satisfied: arrow>=0.15.0 in c:\\users\\ashwa\\miniconda3\\lib\\site-packages (from isoduration->jsonschema[format-nongpl]>=4.18.0->jupyter-events>=0.11.0->jupyter-server<3,>=2.4.0->jupyterlab->jupyter->-r requirements.txt (line 6)) (1.3.0)\n",
            "Requirement already satisfied: types-python-dateutil>=2.8.10 in c:\\users\\ashwa\\miniconda3\\lib\\site-packages (from arrow>=0.15.0->isoduration->jsonschema[format-nongpl]>=4.18.0->jupyter-events>=0.11.0->jupyter-server<3,>=2.4.0->jupyterlab->jupyter->-r requirements.txt (line 6)) (2.9.0.20250708)\n"
          ]
        }
      ],
      "source": [
        "!pip install -r requirements.txt"
      ]
    },
    {
      "cell_type": "markdown",
      "metadata": {},
      "source": [
        "## Step 2: Train the Model\n",
        "\n",
        "Next, we run the `train.py` script. This script will:\n",
        "1. Load and preprocess the Iris dataset.\n",
        "2. Train multiple classification models (e.g., Logistic Regression, Random Forest).\n",
        "3. Use MLflow to track experiments, parameters, and metrics.\n",
        "4. Select the best-performing model and save it locally to the `saved_model/` directory."
      ]
    },
    {
      "cell_type": "code",
      "execution_count": 2,
      "metadata": {},
      "outputs": [
        {
          "name": "stdout",
          "output_type": "stream",
          "text": [
            "   sepal_length  sepal_width  petal_length  petal_width  species\n",
            "0           5.1          3.5           1.4          0.2        0\n",
            "1           4.9          3.0           1.4          0.2        0\n",
            "2           4.7          3.2           1.3          0.2        0\n",
            "3           4.6          3.1           1.5          0.2        0\n",
            "4           5.0          3.6           1.4          0.2        0\n",
            "Confusion Matrix for Logistic Regression:\n",
            "[[10  0  0]\n",
            " [ 0  9  0]\n",
            " [ 0  0 11]]\n",
            "\n",
            "Classification Report for Logistic Regression:\n",
            "              precision    recall  f1-score   support\n",
            "\n",
            "           0       1.00      1.00      1.00        10\n",
            "           1       1.00      1.00      1.00         9\n",
            "           2       1.00      1.00      1.00        11\n",
            "\n",
            "    accuracy                           1.00        30\n",
            "   macro avg       1.00      1.00      1.00        30\n",
            "weighted avg       1.00      1.00      1.00        30\n",
            "\n",
            "\n",
            "Precision for Logistic Regression: 1.0000\n",
            "Recall for Logistic Regression: 1.0000\n",
            "F1 Score for Logistic Regression: 1.0000\n",
            "Logistic Regression Accuracy: 1.0000\n",
            "New best model found: Logistic Regression with accuracy 1.0000\n",
            "Confusion Matrix for Random Forest:\n",
            "[[10  0  0]\n",
            " [ 0  9  0]\n",
            " [ 0  0 11]]\n",
            "\n",
            "Classification Report for Random Forest:\n",
            "              precision    recall  f1-score   support\n",
            "\n",
            "           0       1.00      1.00      1.00        10\n",
            "           1       1.00      1.00      1.00         9\n",
            "           2       1.00      1.00      1.00        11\n",
            "\n",
            "    accuracy                           1.00        30\n",
            "   macro avg       1.00      1.00      1.00        30\n",
            "weighted avg       1.00      1.00      1.00        30\n",
            "\n",
            "\n",
            "Precision for Random Forest: 1.0000\n",
            "Recall for Random Forest: 1.0000\n",
            "F1 Score for Random Forest: 1.0000\n",
            "Random Forest Accuracy: 1.0000\n",
            "Best model has been registered in MLflow Model Registry.\n",
            "\n",
            "Best model and scaler saved to 'saved_model/' directory.\n"
          ]
        },
        {
          "name": "stderr",
          "output_type": "stream",
          "text": [
            "2025/08/11 19:51:20 INFO mlflow.tracking.fluent: Experiment with name 'Iris-Classifier-Training' does not exist. Creating a new experiment.\n",
            "2025/08/11 19:51:22 WARNING mlflow.models.model: `artifact_path` is deprecated. Please use `name` instead.\n",
            "2025/08/11 19:51:32 WARNING mlflow.models.model: Model logged without a signature and input example. Please set `input_example` parameter when logging the model to auto infer the model signature.\n",
            "2025/08/11 19:51:32 WARNING mlflow.models.model: `artifact_path` is deprecated. Please use `name` instead.\n",
            "2025/08/11 19:51:32 WARNING mlflow.sklearn: Model was missing function: predict. Not logging python_function flavor!\n",
            "2025/08/11 19:51:38 WARNING mlflow.models.model: Model logged without a signature and input example. Please set `input_example` parameter when logging the model to auto infer the model signature.\n",
            "2025/08/11 19:51:38 WARNING mlflow.models.model: `artifact_path` is deprecated. Please use `name` instead.\n",
            "2025/08/11 19:51:45 WARNING mlflow.models.model: Model logged without a signature and input example. Please set `input_example` parameter when logging the model to auto infer the model signature.\n",
            "2025/08/11 19:51:45 WARNING mlflow.models.model: `artifact_path` is deprecated. Please use `name` instead.\n",
            "2025/08/11 19:51:45 WARNING mlflow.sklearn: Model was missing function: predict. Not logging python_function flavor!\n",
            "2025/08/11 19:51:51 WARNING mlflow.models.model: Model logged without a signature and input example. Please set `input_example` parameter when logging the model to auto infer the model signature.\n",
            "Successfully registered model 'Iris-Classifier-Best'.\n",
            "2025/08/11 19:51:52 WARNING mlflow.tracking._model_registry.fluent: Run with id 138dfb93e370484b9ff036e7dd2b5813 has no artifacts at artifact path 'model', registering model based on models:/m-e2e8de0ac2a44ea0beb2f955a45d4090 instead\n",
            "Created version '1' of model 'Iris-Classifier-Best'.\n"
          ]
        }
      ],
      "source": [
        "!python src/train.py"
      ]
    },
    {
      "cell_type": "markdown",
      "metadata": {},
      "source": [
        "## Step 3: Build the Docker Image\n",
        "\n",
        "Now that we have a trained model saved in dir, we can build our Docker image. The `docker build` command reads the `dockerfile` to create a self-contained image that includes our FastAPI application `app.py`, all dependencies, and the saved model."
      ]
    },
    {
      "cell_type": "code",
      "execution_count": 3,
      "metadata": {},
      "outputs": [
        {
          "name": "stderr",
          "output_type": "stream",
          "text": [
            "#0 building with \"desktop-linux\" instance using docker driver\n",
            "\n",
            "#1 [internal] load build definition from dockerfile\n",
            "#1 transferring dockerfile: 656B 0.0s done\n",
            "#1 DONE 0.0s\n",
            "\n",
            "#2 [internal] load metadata for docker.io/library/python:3.11-slim\n",
            "#2 ...\n",
            "\n",
            "#3 [auth] library/python:pull token for registry-1.docker.io\n",
            "#3 DONE 0.0s\n",
            "\n",
            "#2 [internal] load metadata for docker.io/library/python:3.11-slim\n",
            "#2 DONE 2.5s\n",
            "\n",
            "#4 [internal] load .dockerignore\n",
            "#4 transferring context: 2B 0.0s done\n",
            "#4 DONE 0.0s\n",
            "\n",
            "#5 [1/6] FROM docker.io/library/python:3.11-slim@sha256:0ce77749ac83174a31d5e107ce0cfa6b28a2fd6b0615e029d9d84b39c48976ee\n",
            "#5 DONE 0.0s\n",
            "\n",
            "#6 [internal] load build context\n",
            "#6 transferring context: 2.70kB 0.0s done\n",
            "#6 DONE 0.0s\n",
            "\n",
            "#7 [4/6] RUN pip install --no-cache-dir -r requirements.txt\n",
            "#7 CACHED\n",
            "\n",
            "#8 [5/6] COPY ./src /app/src\n",
            "#8 CACHED\n",
            "\n",
            "#9 [2/6] WORKDIR /app\n",
            "#9 CACHED\n",
            "\n",
            "#10 [3/6] COPY requirements.txt .\n",
            "#10 CACHED\n",
            "\n",
            "#11 [6/6] COPY ./saved_model /app/saved_model\n",
            "#11 CACHED\n",
            "\n",
            "#12 exporting to image\n",
            "#12 exporting layers done\n",
            "#12 writing image sha256:e55b27b299d48706f2f686c41e07c15da97f04d6f9b6ce17b7ebc3ffc1494099 done\n",
            "#12 naming to docker.io/library/iris-classifier:latest done\n",
            "#12 DONE 0.0s\n",
            "\n",
            "View build details: docker-desktop://dashboard/build/desktop-linux/desktop-linux/csduzsswmjh7gw26ywzts1nt6\n"
          ]
        }
      ],
      "source": [
        "!docker build -t iris-classifier:latest ."
      ]
    },
    {
      "cell_type": "markdown",
      "metadata": {},
      "source": [
        "## Step 4: Run the Docker Container\n",
        "\n",
        "With the image successfully built, we can run it as a container. The `docker run` command starts our FastAPI application.\n",
        "\n",
        "- `-d`: Runs the container in detached mode .\n",
        "- `-p 8000:8000`: Maps port 8000 on our local machine to port 8000 inside the container.\n",
        "- `--name iris_api_service`: Assigns a convenient name to our container.\n",
        "- RETRAIN_API_KEY=\"aks\" : For Secure API\n",
        "- GH_PAT : Github Personal Access Token"
      ]
    },
    {
      "cell_type": "code",
      "execution_count": null,
      "metadata": {},
      "outputs": [
        {
          "name": "stdout",
          "output_type": "stream",
          "text": [
            "edc78de7ec69808744c48df323fb938e659beecefb770470eb5f74de793f0039\n"
          ]
        }
      ],
      "source": [
        "!docker run -d -p 8000:8000 -e RETRAIN_API_KEY=\"aks\"  -e GH_PAT=\"add own personal access token here\" --name iris_api_service iris-classifier:latest "
      ]
    },
    {
      "cell_type": "markdown",
      "metadata": {},
      "source": [
        "## Step 5: Test the Running API\n",
        "\n",
        "Our API should now be live and accessible at `http://localhost:8000`. We can send a `POST` request with sample data using `curl` to test the `/predict` endpoint.\n",
        "\n",
        "You should receive a JSON response with the predicted Iris species."
      ]
    },
    {
      "cell_type": "code",
      "execution_count": 6,
      "metadata": {},
      "outputs": [
        {
          "name": "stdout",
          "output_type": "stream",
          "text": [
            "{'predicted_species': 'setosa', 'predicted_label': 0, 'prediction_confidence': 0.9797402531111016}\n"
          ]
        }
      ],
      "source": [
        "import requests\n",
        "\n",
        "url = \"http://localhost:8000/predict\"\n",
        "data = {\n",
        "    \"sepal_length\": 5.1,\n",
        "    \"sepal_width\": 3.5,\n",
        "    \"petal_length\": 1.4,\n",
        "    \"petal_width\": 0.2\n",
        "}\n",
        "\n",
        "response = requests.post(url, json=data)\n",
        "print(response.json())\n",
        "\n"
      ]
    },
    {
      "cell_type": "markdown",
      "metadata": {},
      "source": [
        "## Step 6: Stop and Remove the Container (Cleanup)\n",
        "\n",
        "Once you are finished testing, you can stop and remove the running container to free up resources."
      ]
    },
    {
      "cell_type": "code",
      "execution_count": null,
      "metadata": {},
      "outputs": [],
      "source": [
        "!docker stop iris_api_service\n",
        "!docker rm iris_api_service"
      ]
    }
  ],
  "metadata": {
    "kernelspec": {
      "display_name": "Python 3",
      "language": "python",
      "name": "python3"
    },
    "language_info": {
      "codemirror_mode": {
        "name": "ipython",
        "version": 3
      },
      "file_extension": ".py",
      "mimetype": "text/x-python",
      "name": "python",
      "nbconvert_exporter": "python",
      "pygments_lexer": "ipython3",
      "version": "3.13.2"
    }
  },
  "nbformat": 4,
  "nbformat_minor": 4
}
